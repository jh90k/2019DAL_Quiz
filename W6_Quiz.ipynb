{
 "cells": [
  {
   "cell_type": "code",
   "execution_count": 1,
   "metadata": {},
   "outputs": [],
   "source": [
    "class Cal:\n",
    "    instance_count = 0\n",
    "    \n",
    "    def __init__(self, first, second):\n",
    "        self.first = first\n",
    "        self.second = second\n",
    "        Cal.instance_count = Cal.instance_count + 1\n",
    "    def add(self):\n",
    "        result = self.first + self.second\n",
    "        return result\n",
    "    def sub(self):\n",
    "        result = self.first - self.second\n",
    "        return result"
   ]
  },
  {
   "cell_type": "code",
   "execution_count": 2,
   "metadata": {},
   "outputs": [],
   "source": [
    "class Child_cal(Cal):\n",
    "    def div(self):\n",
    "        result = self.first / self.second\n",
    "        return result\n",
    "        #print(\"곱셈 결과 : {0}\".format(self.result))\n",
    "    \n",
    "    def mul(self):\n",
    "        result = self.first*self.second\n",
    "        return result"
   ]
  },
  {
   "cell_type": "code",
   "execution_count": 3,
   "metadata": {},
   "outputs": [
    {
     "name": "stdout",
     "output_type": "stream",
     "text": [
      "<객체 a로 사칙연산>\n",
      "덧셈 결과 : 6\n",
      "뺄셈 결과 : 2\n",
      "나눗셈 결과 : 2.0\n",
      "곱셈 결과 : 8\n",
      "-부모 클래스의 객체 수 : 1\n"
     ]
    }
   ],
   "source": [
    "child_a = Child_cal(4, 2)\n",
    "print(\"<객체 a로 사칙연산>\")\n",
    "print(\"덧셈 결과 : {}\".format(child_a.add()))\n",
    "print(\"뺄셈 결과 : {}\".format(child_a.sub()))\n",
    "print(\"나눗셈 결과 : {}\".format(child_a.div()))\n",
    "print(\"곱셈 결과 : {}\".format(child_a.mul()))\n",
    "print(\"-부모의 객체 수 : {}\".format(Cal.instance_count))"
   ]
  },
  {
   "cell_type": "code",
   "execution_count": null,
   "metadata": {},
   "outputs": [],
   "source": []
  }
 ],
 "metadata": {
  "kernelspec": {
   "display_name": "Python 3",
   "language": "python",
   "name": "python3"
  },
  "language_info": {
   "codemirror_mode": {
    "name": "ipython",
    "version": 3
   },
   "file_extension": ".py",
   "mimetype": "text/x-python",
   "name": "python",
   "nbconvert_exporter": "python",
   "pygments_lexer": "ipython3",
   "version": "3.7.3"
  }
 },
 "nbformat": 4,
 "nbformat_minor": 2
}
