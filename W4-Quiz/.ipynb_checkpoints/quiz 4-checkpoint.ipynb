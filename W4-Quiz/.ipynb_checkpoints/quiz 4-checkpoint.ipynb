{
 "cells": [
  {
   "cell_type": "code",
   "execution_count": 1,
   "metadata": {
    "collapsed": true
   },
   "outputs": [
    {
     "data": {
      "text/plain": [
       "'  input.txt는 입력값을 담고 있는 텍스트 파일 입니다.  코드 파일과 같은 폴더에 추가하세요.\\n    input.txt에는 숫자 2개가 있습니다. 각각 가로축(n) 세로축(m)의 갯수를 의미합니다.\\n    반복문을 사용해서 n * m 사이즈의 # 모양 네모를 output.txt 파일에 출력하세요'"
      ]
     },
     "execution_count": 1,
     "metadata": {},
     "output_type": "execute_result"
    }
   ],
   "source": [
    "\n",
    "'''  input.txt는 입력값을 담고 있는 텍스트 파일 입니다.  코드 파일과 같은 폴더에 추가하세요.\n",
    "    input.txt에는 숫자 2개가 있습니다. 각각 가로축(n) 세로축(m)의 갯수를 의미합니다.\n",
    "    반복문을 사용해서 n * m 사이즈의 # 모양 네모를 output.txt 파일에 출력하세요'''"
   ]
  },
  {
   "cell_type": "code",
   "execution_count": 28,
   "metadata": {},
   "outputs": [],
   "source": [
    "f1=open(\"input.txt\", 'r')\n",
    "f2=open(\"output.txt\",'w')\n",
    "\n",
    "n = int(f1.readline())\n",
    "m = int(f1.readline())\n",
    "\n",
    "for i in range(m):\n",
    "    for j in range(n):\n",
    "        f2.write('#')\n",
    "    f2.write('\\n')\n",
    "\n",
    "f1.close()\n",
    "f2.close()"
   ]
  },
  {
   "cell_type": "code",
   "execution_count": null,
   "metadata": {},
   "outputs": [],
   "source": []
  }
 ],
 "metadata": {
  "kernelspec": {
   "display_name": "Python 3",
   "language": "python",
   "name": "python3"
  },
  "language_info": {
   "codemirror_mode": {
    "name": "ipython",
    "version": 3
   },
   "file_extension": ".py",
   "mimetype": "text/x-python",
   "name": "python",
   "nbconvert_exporter": "python",
   "pygments_lexer": "ipython3",
   "version": "3.7.3"
  }
 },
 "nbformat": 4,
 "nbformat_minor": 2
}
