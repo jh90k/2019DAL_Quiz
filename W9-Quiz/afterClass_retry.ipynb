{
 "cells": [
  {
   "cell_type": "code",
   "execution_count": 33,
   "metadata": {},
   "outputs": [
    {
     "name": "stdout",
     "output_type": "stream",
     "text": [
      "Overwriting distanceFunc.py\n"
     ]
    }
   ],
   "source": [
    "%%writefile distanceFunc.py\n",
    "\n",
    "def distFunc(a,b,c,d):\n",
    "    dist = ((a-c)**2 + (b-d)**2)**0.5\n",
    "    print(dist)\n",
    "    return dist"
   ]
  },
  {
   "cell_type": "code",
   "execution_count": 34,
   "metadata": {},
   "outputs": [],
   "source": [
    "import distanceFunc as dis"
   ]
  },
  {
   "cell_type": "code",
   "execution_count": 38,
   "metadata": {},
   "outputs": [
    {
     "name": "stdout",
     "output_type": "stream",
     "text": [
      "<class 'int'>\n"
     ]
    },
    {
     "data": {
      "text/plain": [
       "8.602325267042627"
      ]
     },
     "execution_count": 38,
     "metadata": {},
     "output_type": "execute_result"
    }
   ],
   "source": [
    "f = open('input.txt', 'r')\n",
    "\n",
    "p1 = f.readline()\n",
    "p2 = f.readline()\n",
    "\n",
    "p1_list=p1.split(' ')\n",
    "x1 = int(p1_list[0])\n",
    "y1 = int(p1_list[1])\n",
    "\n",
    "p2_list=p2.split(' ')\n",
    "x2 = int(p2_list[0])\n",
    "y2 = int(p2_list[1])\n",
    "\n",
    "dis.distFunc(x1,y1,x2,y2)\n"
   ]
  },
  {
   "cell_type": "code",
   "execution_count": null,
   "metadata": {},
   "outputs": [],
   "source": []
  }
 ],
 "metadata": {
  "kernelspec": {
   "display_name": "Python 3",
   "language": "python",
   "name": "python3"
  },
  "language_info": {
   "codemirror_mode": {
    "name": "ipython",
    "version": 3
   },
   "file_extension": ".py",
   "mimetype": "text/x-python",
   "name": "python",
   "nbconvert_exporter": "python",
   "pygments_lexer": "ipython3",
   "version": "3.7.3"
  }
 },
 "nbformat": 4,
 "nbformat_minor": 2
}
