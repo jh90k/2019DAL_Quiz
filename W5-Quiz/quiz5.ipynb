{
 "cells": [
  {
   "cell_type": "code",
   "execution_count": 81,
   "metadata": {},
   "outputs": [],
   "source": [
    "f1 = open(\"input.txt\", 'r')\n",
    "f2 = open(\"output.txt\", 'w')\n",
    "\n",
    "pi = 3.141592\n",
    "\n",
    "\n",
    "def area(r):\n",
    "    result = r*r*pi\n",
    "    return result\n",
    "\n",
    "raws = f1.readlines()\n",
    "\n",
    "for i in raws:\n",
    "    result = area(int(i))\n",
    "    f2.write(str(round(result,3)))\n",
    "    f2.write('\\n')\n",
    "\n",
    "f1.close()\n",
    "f2.close()"
   ]
  },
  {
   "cell_type": "code",
   "execution_count": null,
   "metadata": {},
   "outputs": [],
   "source": []
  }
 ],
 "metadata": {
  "kernelspec": {
   "display_name": "Python 3",
   "language": "python",
   "name": "python3"
  },
  "language_info": {
   "codemirror_mode": {
    "name": "ipython",
    "version": 3
   },
   "file_extension": ".py",
   "mimetype": "text/x-python",
   "name": "python",
   "nbconvert_exporter": "python",
   "pygments_lexer": "ipython3",
   "version": "3.7.3"
  }
 },
 "nbformat": 4,
 "nbformat_minor": 2
}
