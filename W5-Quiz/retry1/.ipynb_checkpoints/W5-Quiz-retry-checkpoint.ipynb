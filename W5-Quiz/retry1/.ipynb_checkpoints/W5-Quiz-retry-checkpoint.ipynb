{
 "cells": [
  {
   "cell_type": "code",
   "execution_count": null,
   "metadata": {},
   "outputs": [],
   "source": [
    "'''\n",
    "    반지름(radius)값을 input.txt로 입력 받은 후\n",
    "    그 값을 함수의 인자값으로 받아 원의 넓이를 구하고 그 값을 반환하는 함수를 작성하세요.\n",
    "    원이 넓이를 구할때 사용하는 pi의 값은 3.141592로 정의하고 전역변수로 선언하여 사용하세요.\n",
    "    원의 넓이를 소수 3째자리 까지 output.txt 파일에 출력하세요.\n",
    "'''"
   ]
  },
  {
   "cell_type": "code",
   "execution_count": 10,
   "metadata": {},
   "outputs": [],
   "source": [
    "f1 = open(\"input.txt\", 'r')\n",
    "f2 = open(\"output.txt\", 'w')\n",
    "\n",
    "pi = 3.141592\n",
    "\n",
    "def funcArea(r):\n",
    "    area = r**2*pi\n",
    "    return area\n",
    "\n",
    "rs = f1.readlines()\n",
    "\n",
    "for i in rs:\n",
    "    area = round(funcArea(int(i)),3)\n",
    "    f2.write(\"원의 넓이 : {}\".format(area))\n",
    "    f2.write(\"\\n\")\n",
    "\n",
    "\n",
    "\n",
    "f1.close()\n",
    "f2.close()"
   ]
  },
  {
   "cell_type": "code",
   "execution_count": null,
   "metadata": {},
   "outputs": [],
   "source": []
  }
 ],
 "metadata": {
  "kernelspec": {
   "display_name": "Python 3",
   "language": "python",
   "name": "python3"
  },
  "language_info": {
   "codemirror_mode": {
    "name": "ipython",
    "version": 3
   },
   "file_extension": ".py",
   "mimetype": "text/x-python",
   "name": "python",
   "nbconvert_exporter": "python",
   "pygments_lexer": "ipython3",
   "version": "3.7.3"
  }
 },
 "nbformat": 4,
 "nbformat_minor": 2
}
